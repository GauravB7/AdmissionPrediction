{
  "nbformat": 4,
  "nbformat_minor": 0,
  "metadata": {
    "colab": {
      "name": "Admission Prediction.ipynb",
      "provenance": [],
      "collapsed_sections": [],
      "authorship_tag": "ABX9TyPISXTSCPfk/Na+E6sIFhVV",
      "include_colab_link": true
    },
    "kernelspec": {
      "name": "python3",
      "display_name": "Python 3"
    }
  },
  "cells": [
    {
      "cell_type": "markdown",
      "metadata": {
        "id": "view-in-github",
        "colab_type": "text"
      },
      "source": [
        "<a href=\"https://colab.research.google.com/github/GauravB7/AdmissionPrediction/blob/master/Admission_Prediction.ipynb\" target=\"_parent\"><img src=\"https://colab.research.google.com/assets/colab-badge.svg\" alt=\"Open In Colab\"/></a>"
      ]
    },
    {
      "cell_type": "code",
      "metadata": {
        "id": "TUy7JiQJt10F",
        "colab_type": "code",
        "outputId": "12077267-3ad5-4c41-d31e-a535a98719e0",
        "colab": {
          "base_uri": "https://localhost:8080/",
          "height": 52
        }
      },
      "source": [
        "#Setting up Java Environment to Java 8 from Default Java 11\n",
        "!apt-get install openjdk-8-jdk-headless -qq > /dev/null\n",
        "!wget -q https://www-us.apache.org/dist/spark/spark-2.4.1/spark-2.4.1-bin-hadoop2.7.tgz\n",
        "!tar xf spark-2.4.1-bin-hadoop2.7.tgz\n",
        "!pip install -q findspark"
      ],
      "execution_count": 0,
      "outputs": [
        {
          "output_type": "stream",
          "text": [
            "tar: spark-2.4.1-bin-hadoop2.7.tgz: Cannot open: No such file or directory\n",
            "tar: Error is not recoverable: exiting now\n"
          ],
          "name": "stdout"
        }
      ]
    },
    {
      "cell_type": "code",
      "metadata": {
        "id": "AYHFNoxLt_El",
        "colab_type": "code",
        "colab": {}
      },
      "source": [
        "import os\n",
        "os.environ[\"JAVA_HOME\"] = \"/usr/lib/jvm/java-8-openjdk-amd64\""
      ],
      "execution_count": 0,
      "outputs": []
    },
    {
      "cell_type": "code",
      "metadata": {
        "id": "PoI7IcNouBhI",
        "colab_type": "code",
        "outputId": "4d3b61a1-1ed4-4681-c6d9-1b8a14169b11",
        "colab": {
          "base_uri": "https://localhost:8080/",
          "height": 262
        }
      },
      "source": [
        "#Installing the Pyspark library\n",
        "!pip install pyspark==2.4.5"
      ],
      "execution_count": 0,
      "outputs": [
        {
          "output_type": "stream",
          "text": [
            "Collecting pyspark==2.4.5\n",
            "\u001b[?25l  Downloading https://files.pythonhosted.org/packages/9a/5a/271c416c1c2185b6cb0151b29a91fff6fcaed80173c8584ff6d20e46b465/pyspark-2.4.5.tar.gz (217.8MB)\n",
            "\u001b[K     |████████████████████████████████| 217.8MB 59kB/s \n",
            "\u001b[?25hCollecting py4j==0.10.7\n",
            "\u001b[?25l  Downloading https://files.pythonhosted.org/packages/e3/53/c737818eb9a7dc32a7cd4f1396e787bd94200c3997c72c1dbe028587bd76/py4j-0.10.7-py2.py3-none-any.whl (197kB)\n",
            "\u001b[K     |████████████████████████████████| 204kB 41.0MB/s \n",
            "\u001b[?25hBuilding wheels for collected packages: pyspark\n",
            "  Building wheel for pyspark (setup.py) ... \u001b[?25l\u001b[?25hdone\n",
            "  Created wheel for pyspark: filename=pyspark-2.4.5-py2.py3-none-any.whl size=218257927 sha256=a9d5f0655ff0aab98a25d89e0b3dc79d2933dbc54215be2796c7143eaad8b37d\n",
            "  Stored in directory: /root/.cache/pip/wheels/bf/db/04/61d66a5939364e756eb1c1be4ec5bdce6e04047fc7929a3c3c\n",
            "Successfully built pyspark\n",
            "Installing collected packages: py4j, pyspark\n",
            "Successfully installed py4j-0.10.7 pyspark-2.4.5\n"
          ],
          "name": "stdout"
        }
      ]
    },
    {
      "cell_type": "code",
      "metadata": {
        "id": "U_4TLkQFuDhB",
        "colab_type": "code",
        "colab": {}
      },
      "source": [
        "#Checking whether pyspark installed properly or not and importing necessary packages out of it\n",
        "try:\n",
        "    from pyspark import SparkContext, SparkConf\n",
        "    from pyspark.sql import SparkSession\n",
        "except ImportError as e:\n",
        "    printmd('<<<<<!!!!! Please restart your kernel after installing Apache Spark !!!!!>>>>>')"
      ],
      "execution_count": 0,
      "outputs": []
    },
    {
      "cell_type": "code",
      "metadata": {
        "id": "JCQgYFPHuH62",
        "colab_type": "code",
        "colab": {}
      },
      "source": [
        "#Creating an Spark instance\n",
        "sc = SparkContext.getOrCreate(SparkConf().setMaster(\"local[*]\"))\n",
        "\n",
        "spark = SparkSession \\\n",
        "    .builder \\\n",
        "    .getOrCreate()"
      ],
      "execution_count": 0,
      "outputs": []
    },
    {
      "cell_type": "code",
      "metadata": {
        "id": "1-4fAFqruKdj",
        "colab_type": "code",
        "colab": {}
      },
      "source": [
        "import pandas             #importing pandas library to read csv file and create dataframe out of it\n",
        "df=pandas.read_csv('https://raw.githubusercontent.com/GauravB7/AdmissionPrediction/master/datasets_14872_228180_Admission_Predict.csv')\n",
        "df=spark.createDataFrame(df)  #Converting pandas dataframe to spark dataframe"
      ],
      "execution_count": 0,
      "outputs": []
    },
    {
      "cell_type": "code",
      "metadata": {
        "id": "gg7nN-azuNyz",
        "colab_type": "code",
        "outputId": "acb096d4-e6e4-4452-d615-8b6dad423ce6",
        "colab": {
          "base_uri": "https://localhost:8080/",
          "height": 466
        }
      },
      "source": [
        "df.createOrReplaceTempView(\"df\")  #Creating a Table view of the DataFrame\n",
        "spark.sql(\"SELECT * from df\").show()  #A look at the data "
      ],
      "execution_count": 0,
      "outputs": [
        {
          "output_type": "stream",
          "text": [
            "+---------+--------+----------+-----------------+---+---+----+--------+-------------+\n",
            "|SerialNo.|GREScore|TOEFLScore|University_Rating|SOP|LOR|CGPA|Research|ChanceofAdmit|\n",
            "+---------+--------+----------+-----------------+---+---+----+--------+-------------+\n",
            "|        1|     337|       118|                4|4.5|4.5|9.65|       1|         0.92|\n",
            "|        2|     324|       107|                4|4.0|4.5|8.87|       1|         0.76|\n",
            "|        3|     316|       104|                3|3.0|3.5| 8.0|       1|         0.72|\n",
            "|        4|     322|       110|                3|3.5|2.5|8.67|       1|          0.8|\n",
            "|        5|     314|       103|                2|2.0|3.0|8.21|       0|         0.65|\n",
            "|        6|     330|       115|                5|4.5|3.0|9.34|       1|          0.9|\n",
            "|        7|     321|       109|                3|3.0|4.0| 8.2|       1|         0.75|\n",
            "|        8|     308|       101|                2|3.0|4.0| 7.9|       0|         0.68|\n",
            "|        9|     302|       102|                1|2.0|1.5| 8.0|       0|          0.5|\n",
            "|       10|     323|       108|                3|3.5|3.0| 8.6|       0|         0.45|\n",
            "|       11|     325|       106|                3|3.5|4.0| 8.4|       1|         0.52|\n",
            "|       12|     327|       111|                4|4.0|4.5| 9.0|       1|         0.84|\n",
            "|       13|     328|       112|                4|4.0|4.5| 9.1|       1|         0.78|\n",
            "|       14|     307|       109|                3|4.0|3.0| 8.0|       1|         0.62|\n",
            "|       15|     311|       104|                3|3.5|2.0| 8.2|       1|         0.61|\n",
            "|       16|     314|       105|                3|3.5|2.5| 8.3|       0|         0.54|\n",
            "|       17|     317|       107|                3|4.0|3.0| 8.7|       0|         0.66|\n",
            "|       18|     319|       106|                3|4.0|3.0| 8.0|       1|         0.65|\n",
            "|       19|     318|       110|                3|4.0|3.0| 8.8|       0|         0.63|\n",
            "|       20|     303|       102|                3|3.5|3.0| 8.5|       0|         0.62|\n",
            "+---------+--------+----------+-----------------+---+---+----+--------+-------------+\n",
            "only showing top 20 rows\n",
            "\n"
          ],
          "name": "stdout"
        }
      ]
    },
    {
      "cell_type": "code",
      "metadata": {
        "id": "jUleUZ3SzsmI",
        "colab_type": "code",
        "outputId": "de236129-00b9-4cd8-f850-3a5135234733",
        "colab": {
          "base_uri": "https://localhost:8080/",
          "height": 173
        }
      },
      "source": [
        "\n",
        "df.columns"
      ],
      "execution_count": 0,
      "outputs": [
        {
          "output_type": "execute_result",
          "data": {
            "text/plain": [
              "['SerialNo.',\n",
              " 'GREScore',\n",
              " 'TOEFLScore',\n",
              " 'University_Rating',\n",
              " 'SOP',\n",
              " 'LOR',\n",
              " 'CGPA',\n",
              " 'Research',\n",
              " 'ChanceofAdmit']"
            ]
          },
          "metadata": {
            "tags": []
          },
          "execution_count": 50
        }
      ]
    },
    {
      "cell_type": "code",
      "metadata": {
        "id": "tP5JhaKXvb0L",
        "colab_type": "code",
        "outputId": "436cd0aa-6dc3-4329-e4b8-6dddaaed687c",
        "colab": {
          "base_uri": "https://localhost:8080/",
          "height": 52
        }
      },
      "source": [
        "import numpy as np\n",
        "\n",
        "means=spark.sql(\"select mean(GREScore),mean(TOEFLScore),mean(University_Rating),mean(LOR),mean(CGPA),mean(Research) from df\").collect() #Calculating mean values of Open,High,Low and Close Columns\n",
        "means=np.array(means)\n",
        "means"
      ],
      "execution_count": 0,
      "outputs": [
        {
          "output_type": "execute_result",
          "data": {
            "text/plain": [
              "array([[316.8075  , 107.41    ,   3.0875  ,   3.4525  ,   8.598925,\n",
              "          0.5475  ]])"
            ]
          },
          "metadata": {
            "tags": []
          },
          "execution_count": 51
        }
      ]
    },
    {
      "cell_type": "code",
      "metadata": {
        "id": "jW_ztDBrwIqz",
        "colab_type": "code",
        "outputId": "65ea1826-ceaa-446b-dbd1-4bb79e007b3d",
        "colab": {
          "base_uri": "https://localhost:8080/",
          "height": 279
        }
      },
      "source": [
        "#Plotting the means using Scatter Plots\n",
        "%matplotlib inline\n",
        "import matplotlib.pyplot as plt\n",
        "\n",
        "fig=plt.figure()\n",
        "ax=fig.add_subplot(111)\n",
        "ax.scatter([0,1,2,3,4,5],means)\n",
        "ax.set_xlabel('GRE,TOEFL,UniRating,LOR,CGPA,Research')\n",
        "plt.show()"
      ],
      "execution_count": 0,
      "outputs": [
        {
          "output_type": "display_data",
          "data": {
            "image/png": "[encoded data removed]",
            "text/plain": [
              "<Figure size 432x288 with 1 Axes>"
            ]
          },
          "metadata": {
            "tags": [],
            "needs_background": "light"
          }
        }
      ]
    },
    {
      "cell_type": "code",
      "metadata": {
        "id": "Mv5dfS8FwMGB",
        "colab_type": "code",
        "outputId": "69f0dd43-acdb-40e4-bc24-a45359717405",
        "colab": {
          "base_uri": "https://localhost:8080/",
          "height": 54
        }
      },
      "source": [
        "sds = spark.sql(\"select stddev(GREScore),stddev(TOEFLScore),stddev(University_Rating),stddev(LOR),stddev(CGPA),stddev(Research) from df\").collect()\n",
        "sds"
      ],
      "execution_count": 0,
      "outputs": [
        {
          "output_type": "execute_result",
          "data": {
            "text/plain": [
              "[Row(stddev_samp(CAST(GREScore AS DOUBLE))=11.473646113500477, stddev_samp(CAST(TOEFLScore AS DOUBLE))=6.069513777374129, stddev_samp(CAST(University_Rating AS DOUBLE))=1.1437281298838982, stddev_samp(LOR)=0.8984775482792572, stddev_samp(CGPA)=0.596317096496432, stddev_samp(CAST(Research AS DOUBLE))=0.49836197853983133)]"
            ]
          },
          "metadata": {
            "tags": []
          },
          "execution_count": 53
        }
      ]
    },
    {
      "cell_type": "code",
      "metadata": {
        "id": "1b_yrqo4wPQa",
        "colab_type": "code",
        "outputId": "3807c644-10dc-40d6-8483-611f1b7eb88e",
        "colab": {
          "base_uri": "https://localhost:8080/",
          "height": 283
        }
      },
      "source": [
        "fig=plt.figure()\n",
        "ax=fig.add_subplot(111)\n",
        "ax.scatter([0,1,2,3,4,5],sds)\n",
        "ax.set_xlabel('GRE,TOEFL,UniRating,LOR,CGPA,Research')\n",
        "plt.show()"
      ],
      "execution_count": 0,
      "outputs": [
        {
          "output_type": "display_data",
          "data": {
            "image/png": "[encoded data removed]",
            "text/plain": [
              "<Figure size 432x288 with 1 Axes>"
            ]
          },
          "metadata": {
            "tags": [],
            "needs_background": "light"
          }
        }
      ]
    },
    {
      "cell_type": "code",
      "metadata": {
        "id": "piclvqu07wVk",
        "colab_type": "code",
        "colab": {}
      },
      "source": [
        "data=df.randomSplit([0.8,0.2])\n",
        "train_data=data[0]\n",
        "test_data=data[1]\n",
        "\n",
        "\n",
        "train_data.createOrReplaceTempView(\"train_data\")  #Creating a Table view of the DataFrame\n",
        "test_data.createOrReplaceTempView(\"test_data\")  #Creating a Table view of the DataFrame \n",
        "\n",
        "x_train=spark.sql(\"select GREScore,TOEFLScore,University_Rating, LOR,CGPA,Research from train_data \").collect()\n",
        "\n",
        "x_test=spark.sql(\"select GREScore,TOEFLScore,University_Rating, LOR,CGPA,Research from test_data \").collect()\n"
      ],
      "execution_count": 0,
      "outputs": []
    },
    {
      "cell_type": "code",
      "metadata": {
        "id": "JJ_4BZ1B8tuG",
        "colab_type": "code",
        "colab": {}
      },
      "source": [
        "y_train=spark.sql(\"select ChanceofAdmit from train_data \").collect()\n",
        "\n",
        "y_test=spark.sql(\"select ChanceofAdmit from test_data \").collect()\n",
        "\n"
      ],
      "execution_count": 0,
      "outputs": []
    },
    {
      "cell_type": "code",
      "metadata": {
        "id": "4W_kWuOKCJkT",
        "colab_type": "code",
        "colab": {}
      },
      "source": [
        "#importing SVR from sklearn\n",
        "from sklearn.svm import SVR\n",
        "svr= SVR(C=800,max_iter=160,gamma=0.049,kernel='rbf',epsilon=0.049) #Creating an instance to the Support Vector Regressor"
      ],
      "execution_count": 0,
      "outputs": []
    },
    {
      "cell_type": "code",
      "metadata": {
        "id": "wN1t78DYCgjr",
        "colab_type": "code",
        "outputId": "ac22bacf-d1fe-49e6-a13a-4834555130a2",
        "colab": {
          "base_uri": "https://localhost:8080/",
          "height": 106
        }
      },
      "source": [
        "model=svr.fit(x_train,y_train)"
      ],
      "execution_count": 0,
      "outputs": [
        {
          "output_type": "stream",
          "text": [
            "/usr/local/lib/python3.6/dist-packages/sklearn/utils/validation.py:760: DataConversionWarning: A column-vector y was passed when a 1d array was expected. Please change the shape of y to (n_samples, ), for example using ravel().\n",
            "  y = column_or_1d(y, warn=True)\n",
            "/usr/local/lib/python3.6/dist-packages/sklearn/svm/_base.py:231: ConvergenceWarning: Solver terminated early (max_iter=160).  Consider pre-processing your data with StandardScaler or MinMaxScaler.\n",
            "  % self.max_iter, ConvergenceWarning)\n"
          ],
          "name": "stderr"
        }
      ]
    },
    {
      "cell_type": "code",
      "metadata": {
        "id": "mEglfachEUiY",
        "colab_type": "code",
        "outputId": "b7174b27-52ef-4ce2-88af-7cd4b0b0fa91",
        "colab": {
          "base_uri": "https://localhost:8080/",
          "height": 34
        }
      },
      "source": [
        "eval1=model.score(x_test,y_test)  #Evaluate the SVR with testing dataset\n",
        "print(eval1)"
      ],
      "execution_count": 0,
      "outputs": [
        {
          "output_type": "stream",
          "text": [
            "0.5744124153809074\n"
          ],
          "name": "stdout"
        }
      ]
    },
    {
      "cell_type": "code",
      "metadata": {
        "id": "_GCu1WpkTIlS",
        "colab_type": "code",
        "outputId": "197839cb-6e11-4517-efec-e069fdf3b9a0",
        "colab": {
          "base_uri": "https://localhost:8080/",
          "height": 328
        }
      },
      "source": [
        "eval2=model.predict(x_test)  #Evaluate the SVR with testing dataset\n",
        "print(eval2)\n",
        "for i in range(0,len(eval2)):\n",
        "  "
      ],
      "execution_count": 0,
      "outputs": [
        {
          "output_type": "stream",
          "text": [
            "[0.65888258 0.61816528 0.75778756 0.47801433 0.91957673 0.57557426\n",
            " 0.52776572 0.87800529 0.71972243 0.73299708 0.65076919 0.85826494\n",
            " 0.66937283 0.53935939 0.85241678 0.77709363 0.56730852 0.83291592\n",
            " 0.58192108 0.82487581 0.88705918 0.77026238 0.87050422 0.8995089\n",
            " 0.72270703 0.74247287 0.66888158 0.74564735 0.72836766 0.83272385\n",
            " 0.77012552 0.89163966 0.72759249 0.6326122  0.76690439 0.62410802\n",
            " 0.63255249 0.85881448 0.67361857 0.742087   0.63146734 0.81732105\n",
            " 0.8149458  0.58537644 0.82389361 0.82989314 0.92474284 0.78641013\n",
            " 0.72073661 0.63955175 0.89288898 0.66994981 0.57118787 0.6469536\n",
            " 0.87706897 0.88220383 0.85873185 0.73779089 0.81168185 0.7406078\n",
            " 0.63853511 0.71296991 0.74471909 0.81417285 0.83143823 0.76355786\n",
            " 0.70956476 0.73198988 0.76600499 0.71232523 0.66648834 0.73623887\n",
            " 0.71651208 0.72639347 0.66646691 0.49115617 0.52619585 0.89259262\n",
            " 0.66826737 0.91852984 0.80889437 0.75314721 0.6305375  0.72280733\n",
            " 0.71298581 0.58944297 0.74554819 0.79966093 0.90257131 0.427267\n",
            " 0.76697811 0.73505275 0.63935198 0.65671481 0.65066524 0.49764366\n",
            " 0.66987873 0.65659897 0.60261655 0.70577137 0.91776656 0.63660542\n",
            " 0.47426116 0.70983167 0.69307947 0.88088818 0.90118598]\n"
          ],
          "name": "stdout"
        }
      ]
    },
    {
      "cell_type": "code",
      "metadata": {
        "id": "1YsSr_0AEwpp",
        "colab_type": "code",
        "outputId": "0e6cad76-b4d8-48e0-84d6-562a14439d89",
        "colab": {
          "base_uri": "https://localhost:8080/",
          "height": 34
        }
      },
      "source": [
        "pred_array=np.array([[338,117,4,4.5,9.65,0]])\n",
        "pred=model.predict(pred_array)\n",
        "pred\n",
        "#pred_array.shape"
      ],
      "execution_count": 0,
      "outputs": [
        {
          "output_type": "execute_result",
          "data": {
            "text/plain": [
              "array([0.90389479])"
            ]
          },
          "metadata": {
            "tags": []
          },
          "execution_count": 173
        }
      ]
    }
  ]
}